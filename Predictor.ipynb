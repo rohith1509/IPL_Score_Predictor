{
 "cells": [
  {
   "cell_type": "code",
   "execution_count": 1,
   "metadata": {},
   "outputs": [],
   "source": [
    "import pandas as pd\n",
    "import matplotlib.pyplot as plt\n",
    "import seaborn as sns\n",
    "dataset = pd.read_csv('data/ipl.csv')\n"
   ]
  },
  {
   "cell_type": "code",
   "execution_count": 2,
   "metadata": {},
   "outputs": [
    {
     "data": {
      "text/html": [
       "<div>\n",
       "<style scoped>\n",
       "    .dataframe tbody tr th:only-of-type {\n",
       "        vertical-align: middle;\n",
       "    }\n",
       "\n",
       "    .dataframe tbody tr th {\n",
       "        vertical-align: top;\n",
       "    }\n",
       "\n",
       "    .dataframe thead th {\n",
       "        text-align: right;\n",
       "    }\n",
       "</style>\n",
       "<table border=\"1\" class=\"dataframe\">\n",
       "  <thead>\n",
       "    <tr style=\"text-align: right;\">\n",
       "      <th></th>\n",
       "      <th>mid</th>\n",
       "      <th>date</th>\n",
       "      <th>venue</th>\n",
       "      <th>bat_team</th>\n",
       "      <th>bowl_team</th>\n",
       "      <th>batsman</th>\n",
       "      <th>bowler</th>\n",
       "      <th>runs</th>\n",
       "      <th>wickets</th>\n",
       "      <th>overs</th>\n",
       "      <th>runs_last_5</th>\n",
       "      <th>wickets_last_5</th>\n",
       "      <th>striker</th>\n",
       "      <th>non-striker</th>\n",
       "      <th>total</th>\n",
       "    </tr>\n",
       "  </thead>\n",
       "  <tbody>\n",
       "    <tr>\n",
       "      <th>0</th>\n",
       "      <td>1</td>\n",
       "      <td>2008-04-18</td>\n",
       "      <td>M Chinnaswamy Stadium</td>\n",
       "      <td>Kolkata Knight Riders</td>\n",
       "      <td>Royal Challengers Bangalore</td>\n",
       "      <td>SC Ganguly</td>\n",
       "      <td>P Kumar</td>\n",
       "      <td>1</td>\n",
       "      <td>0</td>\n",
       "      <td>0.1</td>\n",
       "      <td>1</td>\n",
       "      <td>0</td>\n",
       "      <td>0</td>\n",
       "      <td>0</td>\n",
       "      <td>222</td>\n",
       "    </tr>\n",
       "    <tr>\n",
       "      <th>1</th>\n",
       "      <td>1</td>\n",
       "      <td>2008-04-18</td>\n",
       "      <td>M Chinnaswamy Stadium</td>\n",
       "      <td>Kolkata Knight Riders</td>\n",
       "      <td>Royal Challengers Bangalore</td>\n",
       "      <td>BB McCullum</td>\n",
       "      <td>P Kumar</td>\n",
       "      <td>1</td>\n",
       "      <td>0</td>\n",
       "      <td>0.2</td>\n",
       "      <td>1</td>\n",
       "      <td>0</td>\n",
       "      <td>0</td>\n",
       "      <td>0</td>\n",
       "      <td>222</td>\n",
       "    </tr>\n",
       "    <tr>\n",
       "      <th>2</th>\n",
       "      <td>1</td>\n",
       "      <td>2008-04-18</td>\n",
       "      <td>M Chinnaswamy Stadium</td>\n",
       "      <td>Kolkata Knight Riders</td>\n",
       "      <td>Royal Challengers Bangalore</td>\n",
       "      <td>BB McCullum</td>\n",
       "      <td>P Kumar</td>\n",
       "      <td>2</td>\n",
       "      <td>0</td>\n",
       "      <td>0.2</td>\n",
       "      <td>2</td>\n",
       "      <td>0</td>\n",
       "      <td>0</td>\n",
       "      <td>0</td>\n",
       "      <td>222</td>\n",
       "    </tr>\n",
       "    <tr>\n",
       "      <th>3</th>\n",
       "      <td>1</td>\n",
       "      <td>2008-04-18</td>\n",
       "      <td>M Chinnaswamy Stadium</td>\n",
       "      <td>Kolkata Knight Riders</td>\n",
       "      <td>Royal Challengers Bangalore</td>\n",
       "      <td>BB McCullum</td>\n",
       "      <td>P Kumar</td>\n",
       "      <td>2</td>\n",
       "      <td>0</td>\n",
       "      <td>0.3</td>\n",
       "      <td>2</td>\n",
       "      <td>0</td>\n",
       "      <td>0</td>\n",
       "      <td>0</td>\n",
       "      <td>222</td>\n",
       "    </tr>\n",
       "    <tr>\n",
       "      <th>4</th>\n",
       "      <td>1</td>\n",
       "      <td>2008-04-18</td>\n",
       "      <td>M Chinnaswamy Stadium</td>\n",
       "      <td>Kolkata Knight Riders</td>\n",
       "      <td>Royal Challengers Bangalore</td>\n",
       "      <td>BB McCullum</td>\n",
       "      <td>P Kumar</td>\n",
       "      <td>2</td>\n",
       "      <td>0</td>\n",
       "      <td>0.4</td>\n",
       "      <td>2</td>\n",
       "      <td>0</td>\n",
       "      <td>0</td>\n",
       "      <td>0</td>\n",
       "      <td>222</td>\n",
       "    </tr>\n",
       "    <tr>\n",
       "      <th>...</th>\n",
       "      <td>...</td>\n",
       "      <td>...</td>\n",
       "      <td>...</td>\n",
       "      <td>...</td>\n",
       "      <td>...</td>\n",
       "      <td>...</td>\n",
       "      <td>...</td>\n",
       "      <td>...</td>\n",
       "      <td>...</td>\n",
       "      <td>...</td>\n",
       "      <td>...</td>\n",
       "      <td>...</td>\n",
       "      <td>...</td>\n",
       "      <td>...</td>\n",
       "      <td>...</td>\n",
       "    </tr>\n",
       "    <tr>\n",
       "      <th>76009</th>\n",
       "      <td>617</td>\n",
       "      <td>2017-05-21</td>\n",
       "      <td>Rajiv Gandhi International Stadium, Uppal</td>\n",
       "      <td>Mumbai Indians</td>\n",
       "      <td>Rising Pune Supergiant</td>\n",
       "      <td>KH Pandya</td>\n",
       "      <td>DT Christian</td>\n",
       "      <td>121</td>\n",
       "      <td>7</td>\n",
       "      <td>19.2</td>\n",
       "      <td>40</td>\n",
       "      <td>0</td>\n",
       "      <td>40</td>\n",
       "      <td>12</td>\n",
       "      <td>129</td>\n",
       "    </tr>\n",
       "    <tr>\n",
       "      <th>76010</th>\n",
       "      <td>617</td>\n",
       "      <td>2017-05-21</td>\n",
       "      <td>Rajiv Gandhi International Stadium, Uppal</td>\n",
       "      <td>Mumbai Indians</td>\n",
       "      <td>Rising Pune Supergiant</td>\n",
       "      <td>KH Pandya</td>\n",
       "      <td>DT Christian</td>\n",
       "      <td>127</td>\n",
       "      <td>7</td>\n",
       "      <td>19.3</td>\n",
       "      <td>46</td>\n",
       "      <td>0</td>\n",
       "      <td>46</td>\n",
       "      <td>12</td>\n",
       "      <td>129</td>\n",
       "    </tr>\n",
       "    <tr>\n",
       "      <th>76011</th>\n",
       "      <td>617</td>\n",
       "      <td>2017-05-21</td>\n",
       "      <td>Rajiv Gandhi International Stadium, Uppal</td>\n",
       "      <td>Mumbai Indians</td>\n",
       "      <td>Rising Pune Supergiant</td>\n",
       "      <td>KH Pandya</td>\n",
       "      <td>DT Christian</td>\n",
       "      <td>128</td>\n",
       "      <td>7</td>\n",
       "      <td>19.4</td>\n",
       "      <td>47</td>\n",
       "      <td>0</td>\n",
       "      <td>47</td>\n",
       "      <td>12</td>\n",
       "      <td>129</td>\n",
       "    </tr>\n",
       "    <tr>\n",
       "      <th>76012</th>\n",
       "      <td>617</td>\n",
       "      <td>2017-05-21</td>\n",
       "      <td>Rajiv Gandhi International Stadium, Uppal</td>\n",
       "      <td>Mumbai Indians</td>\n",
       "      <td>Rising Pune Supergiant</td>\n",
       "      <td>MG Johnson</td>\n",
       "      <td>DT Christian</td>\n",
       "      <td>129</td>\n",
       "      <td>7</td>\n",
       "      <td>19.5</td>\n",
       "      <td>48</td>\n",
       "      <td>0</td>\n",
       "      <td>47</td>\n",
       "      <td>13</td>\n",
       "      <td>129</td>\n",
       "    </tr>\n",
       "    <tr>\n",
       "      <th>76013</th>\n",
       "      <td>617</td>\n",
       "      <td>2017-05-21</td>\n",
       "      <td>Rajiv Gandhi International Stadium, Uppal</td>\n",
       "      <td>Mumbai Indians</td>\n",
       "      <td>Rising Pune Supergiant</td>\n",
       "      <td>KH Pandya</td>\n",
       "      <td>DT Christian</td>\n",
       "      <td>129</td>\n",
       "      <td>8</td>\n",
       "      <td>19.6</td>\n",
       "      <td>47</td>\n",
       "      <td>1</td>\n",
       "      <td>47</td>\n",
       "      <td>13</td>\n",
       "      <td>129</td>\n",
       "    </tr>\n",
       "  </tbody>\n",
       "</table>\n",
       "<p>76014 rows × 15 columns</p>\n",
       "</div>"
      ],
      "text/plain": [
       "       mid        date                                      venue  \\\n",
       "0        1  2008-04-18                      M Chinnaswamy Stadium   \n",
       "1        1  2008-04-18                      M Chinnaswamy Stadium   \n",
       "2        1  2008-04-18                      M Chinnaswamy Stadium   \n",
       "3        1  2008-04-18                      M Chinnaswamy Stadium   \n",
       "4        1  2008-04-18                      M Chinnaswamy Stadium   \n",
       "...    ...         ...                                        ...   \n",
       "76009  617  2017-05-21  Rajiv Gandhi International Stadium, Uppal   \n",
       "76010  617  2017-05-21  Rajiv Gandhi International Stadium, Uppal   \n",
       "76011  617  2017-05-21  Rajiv Gandhi International Stadium, Uppal   \n",
       "76012  617  2017-05-21  Rajiv Gandhi International Stadium, Uppal   \n",
       "76013  617  2017-05-21  Rajiv Gandhi International Stadium, Uppal   \n",
       "\n",
       "                    bat_team                    bowl_team      batsman  \\\n",
       "0      Kolkata Knight Riders  Royal Challengers Bangalore   SC Ganguly   \n",
       "1      Kolkata Knight Riders  Royal Challengers Bangalore  BB McCullum   \n",
       "2      Kolkata Knight Riders  Royal Challengers Bangalore  BB McCullum   \n",
       "3      Kolkata Knight Riders  Royal Challengers Bangalore  BB McCullum   \n",
       "4      Kolkata Knight Riders  Royal Challengers Bangalore  BB McCullum   \n",
       "...                      ...                          ...          ...   \n",
       "76009         Mumbai Indians       Rising Pune Supergiant    KH Pandya   \n",
       "76010         Mumbai Indians       Rising Pune Supergiant    KH Pandya   \n",
       "76011         Mumbai Indians       Rising Pune Supergiant    KH Pandya   \n",
       "76012         Mumbai Indians       Rising Pune Supergiant   MG Johnson   \n",
       "76013         Mumbai Indians       Rising Pune Supergiant    KH Pandya   \n",
       "\n",
       "             bowler  runs  wickets  overs  runs_last_5  wickets_last_5  \\\n",
       "0           P Kumar     1        0    0.1            1               0   \n",
       "1           P Kumar     1        0    0.2            1               0   \n",
       "2           P Kumar     2        0    0.2            2               0   \n",
       "3           P Kumar     2        0    0.3            2               0   \n",
       "4           P Kumar     2        0    0.4            2               0   \n",
       "...             ...   ...      ...    ...          ...             ...   \n",
       "76009  DT Christian   121        7   19.2           40               0   \n",
       "76010  DT Christian   127        7   19.3           46               0   \n",
       "76011  DT Christian   128        7   19.4           47               0   \n",
       "76012  DT Christian   129        7   19.5           48               0   \n",
       "76013  DT Christian   129        8   19.6           47               1   \n",
       "\n",
       "       striker  non-striker  total  \n",
       "0            0            0    222  \n",
       "1            0            0    222  \n",
       "2            0            0    222  \n",
       "3            0            0    222  \n",
       "4            0            0    222  \n",
       "...        ...          ...    ...  \n",
       "76009       40           12    129  \n",
       "76010       46           12    129  \n",
       "76011       47           12    129  \n",
       "76012       47           13    129  \n",
       "76013       47           13    129  \n",
       "\n",
       "[76014 rows x 15 columns]"
      ]
     },
     "execution_count": 2,
     "metadata": {},
     "output_type": "execute_result"
    }
   ],
   "source": [
    "dataset"
   ]
  },
  {
   "cell_type": "code",
   "execution_count": 3,
   "metadata": {},
   "outputs": [
    {
     "data": {
      "text/plain": [
       "<bound method DataFrame.any of          mid   date  venue  bat_team  bowl_team  batsman  bowler   runs  \\\n",
       "0      False  False  False     False      False    False   False  False   \n",
       "1      False  False  False     False      False    False   False  False   \n",
       "2      False  False  False     False      False    False   False  False   \n",
       "3      False  False  False     False      False    False   False  False   \n",
       "4      False  False  False     False      False    False   False  False   \n",
       "...      ...    ...    ...       ...        ...      ...     ...    ...   \n",
       "76009  False  False  False     False      False    False   False  False   \n",
       "76010  False  False  False     False      False    False   False  False   \n",
       "76011  False  False  False     False      False    False   False  False   \n",
       "76012  False  False  False     False      False    False   False  False   \n",
       "76013  False  False  False     False      False    False   False  False   \n",
       "\n",
       "       wickets  overs  runs_last_5  wickets_last_5  striker  non-striker  \\\n",
       "0        False  False        False           False    False        False   \n",
       "1        False  False        False           False    False        False   \n",
       "2        False  False        False           False    False        False   \n",
       "3        False  False        False           False    False        False   \n",
       "4        False  False        False           False    False        False   \n",
       "...        ...    ...          ...             ...      ...          ...   \n",
       "76009    False  False        False           False    False        False   \n",
       "76010    False  False        False           False    False        False   \n",
       "76011    False  False        False           False    False        False   \n",
       "76012    False  False        False           False    False        False   \n",
       "76013    False  False        False           False    False        False   \n",
       "\n",
       "       total  \n",
       "0      False  \n",
       "1      False  \n",
       "2      False  \n",
       "3      False  \n",
       "4      False  \n",
       "...      ...  \n",
       "76009  False  \n",
       "76010  False  \n",
       "76011  False  \n",
       "76012  False  \n",
       "76013  False  \n",
       "\n",
       "[76014 rows x 15 columns]>"
      ]
     },
     "execution_count": 3,
     "metadata": {},
     "output_type": "execute_result"
    }
   ],
   "source": [
    "dataset.isnull().any"
   ]
  },
  {
   "cell_type": "code",
   "execution_count": 4,
   "metadata": {
    "scrolled": true
   },
   "outputs": [
    {
     "data": {
      "text/html": [
       "<div>\n",
       "<style scoped>\n",
       "    .dataframe tbody tr th:only-of-type {\n",
       "        vertical-align: middle;\n",
       "    }\n",
       "\n",
       "    .dataframe tbody tr th {\n",
       "        vertical-align: top;\n",
       "    }\n",
       "\n",
       "    .dataframe thead th {\n",
       "        text-align: right;\n",
       "    }\n",
       "</style>\n",
       "<table border=\"1\" class=\"dataframe\">\n",
       "  <thead>\n",
       "    <tr style=\"text-align: right;\">\n",
       "      <th></th>\n",
       "      <th>runs</th>\n",
       "      <th>wickets</th>\n",
       "      <th>overs</th>\n",
       "      <th>runs_last_5</th>\n",
       "      <th>wickets_last_5</th>\n",
       "      <th>striker</th>\n",
       "      <th>non-striker</th>\n",
       "    </tr>\n",
       "  </thead>\n",
       "  <tbody>\n",
       "    <tr>\n",
       "      <th>0</th>\n",
       "      <td>1</td>\n",
       "      <td>0</td>\n",
       "      <td>0.1</td>\n",
       "      <td>1</td>\n",
       "      <td>0</td>\n",
       "      <td>0</td>\n",
       "      <td>0</td>\n",
       "    </tr>\n",
       "    <tr>\n",
       "      <th>1</th>\n",
       "      <td>1</td>\n",
       "      <td>0</td>\n",
       "      <td>0.2</td>\n",
       "      <td>1</td>\n",
       "      <td>0</td>\n",
       "      <td>0</td>\n",
       "      <td>0</td>\n",
       "    </tr>\n",
       "    <tr>\n",
       "      <th>2</th>\n",
       "      <td>2</td>\n",
       "      <td>0</td>\n",
       "      <td>0.2</td>\n",
       "      <td>2</td>\n",
       "      <td>0</td>\n",
       "      <td>0</td>\n",
       "      <td>0</td>\n",
       "    </tr>\n",
       "    <tr>\n",
       "      <th>3</th>\n",
       "      <td>2</td>\n",
       "      <td>0</td>\n",
       "      <td>0.3</td>\n",
       "      <td>2</td>\n",
       "      <td>0</td>\n",
       "      <td>0</td>\n",
       "      <td>0</td>\n",
       "    </tr>\n",
       "    <tr>\n",
       "      <th>4</th>\n",
       "      <td>2</td>\n",
       "      <td>0</td>\n",
       "      <td>0.4</td>\n",
       "      <td>2</td>\n",
       "      <td>0</td>\n",
       "      <td>0</td>\n",
       "      <td>0</td>\n",
       "    </tr>\n",
       "    <tr>\n",
       "      <th>...</th>\n",
       "      <td>...</td>\n",
       "      <td>...</td>\n",
       "      <td>...</td>\n",
       "      <td>...</td>\n",
       "      <td>...</td>\n",
       "      <td>...</td>\n",
       "      <td>...</td>\n",
       "    </tr>\n",
       "    <tr>\n",
       "      <th>76009</th>\n",
       "      <td>121</td>\n",
       "      <td>7</td>\n",
       "      <td>19.2</td>\n",
       "      <td>40</td>\n",
       "      <td>0</td>\n",
       "      <td>40</td>\n",
       "      <td>12</td>\n",
       "    </tr>\n",
       "    <tr>\n",
       "      <th>76010</th>\n",
       "      <td>127</td>\n",
       "      <td>7</td>\n",
       "      <td>19.3</td>\n",
       "      <td>46</td>\n",
       "      <td>0</td>\n",
       "      <td>46</td>\n",
       "      <td>12</td>\n",
       "    </tr>\n",
       "    <tr>\n",
       "      <th>76011</th>\n",
       "      <td>128</td>\n",
       "      <td>7</td>\n",
       "      <td>19.4</td>\n",
       "      <td>47</td>\n",
       "      <td>0</td>\n",
       "      <td>47</td>\n",
       "      <td>12</td>\n",
       "    </tr>\n",
       "    <tr>\n",
       "      <th>76012</th>\n",
       "      <td>129</td>\n",
       "      <td>7</td>\n",
       "      <td>19.5</td>\n",
       "      <td>48</td>\n",
       "      <td>0</td>\n",
       "      <td>47</td>\n",
       "      <td>13</td>\n",
       "    </tr>\n",
       "    <tr>\n",
       "      <th>76013</th>\n",
       "      <td>129</td>\n",
       "      <td>8</td>\n",
       "      <td>19.6</td>\n",
       "      <td>47</td>\n",
       "      <td>1</td>\n",
       "      <td>47</td>\n",
       "      <td>13</td>\n",
       "    </tr>\n",
       "  </tbody>\n",
       "</table>\n",
       "<p>76014 rows × 7 columns</p>\n",
       "</div>"
      ],
      "text/plain": [
       "       runs  wickets  overs  runs_last_5  wickets_last_5  striker  non-striker\n",
       "0         1        0    0.1            1               0        0            0\n",
       "1         1        0    0.2            1               0        0            0\n",
       "2         2        0    0.2            2               0        0            0\n",
       "3         2        0    0.3            2               0        0            0\n",
       "4         2        0    0.4            2               0        0            0\n",
       "...     ...      ...    ...          ...             ...      ...          ...\n",
       "76009   121        7   19.2           40               0       40           12\n",
       "76010   127        7   19.3           46               0       46           12\n",
       "76011   128        7   19.4           47               0       47           12\n",
       "76012   129        7   19.5           48               0       47           13\n",
       "76013   129        8   19.6           47               1       47           13\n",
       "\n",
       "[76014 rows x 7 columns]"
      ]
     },
     "execution_count": 4,
     "metadata": {},
     "output_type": "execute_result"
    }
   ],
   "source": [
    "data=dataset.iloc[:,7:14]\n",
    "data"
   ]
  },
  {
   "cell_type": "code",
   "execution_count": 5,
   "metadata": {},
   "outputs": [
    {
     "data": {
      "text/plain": [
       "<AxesSubplot:>"
      ]
     },
     "execution_count": 5,
     "metadata": {},
     "output_type": "execute_result"
    },
    {
     "data": {
      "image/png": "[encoded data removed]",
      "text/plain": [
       "<Figure size 432x288 with 2 Axes>"
      ]
     },
     "metadata": {
      "needs_background": "light"
     },
     "output_type": "display_data"
    }
   ],
   "source": [
    "\n",
    "sns.heatmap(data)"
   ]
  },
  {
   "cell_type": "code",
   "execution_count": 52,
   "metadata": {},
   "outputs": [],
   "source": []
  },
  {
   "cell_type": "code",
   "execution_count": 11,
   "metadata": {},
   "outputs": [
    {
     "data": {
      "text/plain": [
       "[<matplotlib.lines.Line2D at 0x1dc929fb608>]"
      ]
     },
     "execution_count": 11,
     "metadata": {},
     "output_type": "execute_result"
    },
    {
     "data": {
      "image/png": "[encoded data removed]",
      "text/plain": [
       "<Figure size 432x288 with 1 Axes>"
      ]
     },
     "metadata": {
      "needs_background": "light"
     },
     "output_type": "display_data"
    }
   ],
   "source": [
    "plt.plot(dataset['runs'],dataset['total'])"
   ]
  },
  {
   "cell_type": "code",
   "execution_count": 12,
   "metadata": {},
   "outputs": [
    {
     "data": {
      "text/plain": [
       "[<matplotlib.lines.Line2D at 0x1dc90d448c8>]"
      ]
     },
     "execution_count": 12,
     "metadata": {},
     "output_type": "execute_result"
    },
    {
     "data": {
      "image/png": "[encoded data removed]",
      "text/plain": [
       "<Figure size 432x288 with 1 Axes>"
      ]
     },
     "metadata": {
      "needs_background": "light"
     },
     "output_type": "display_data"
    }
   ],
   "source": [
    "plt.plot(dataset['overs'],dataset['total'])"
   ]
  },
  {
   "cell_type": "code",
   "execution_count": 13,
   "metadata": {},
   "outputs": [
    {
     "data": {
      "text/plain": [
       "[<matplotlib.lines.Line2D at 0x1dc9688af48>]"
      ]
     },
     "execution_count": 13,
     "metadata": {},
     "output_type": "execute_result"
    },
    {
     "data": {
      "image/png": "[encoded data removed]",
      "text/plain": [
       "<Figure size 432x288 with 1 Axes>"
      ]
     },
     "metadata": {
      "needs_background": "light"
     },
     "output_type": "display_data"
    }
   ],
   "source": [
    "plt.plot(dataset['striker'],dataset['total'])"
   ]
  },
  {
   "cell_type": "code",
   "execution_count": 14,
   "metadata": {},
   "outputs": [
    {
     "data": {
      "text/plain": [
       "<matplotlib.collections.PathCollection at 0x1dc915a8488>"
      ]
     },
     "execution_count": 14,
     "metadata": {},
     "output_type": "execute_result"
    },
    {
     "data": {
      "image/png": "[encoded data removed]",
      "text/plain": [
       "<Figure size 432x288 with 1 Axes>"
      ]
     },
     "metadata": {
      "needs_background": "light"
     },
     "output_type": "display_data"
    }
   ],
   "source": [
    "plt.scatter(dataset['striker'],dataset['total'])"
   ]
  },
  {
   "cell_type": "code",
   "execution_count": 21,
   "metadata": {},
   "outputs": [
    {
     "data": {
      "image/png": "[encoded data removed]",
      "text/plain": [
       "<Figure size 864x432 with 1 Axes>"
      ]
     },
     "metadata": {
      "needs_background": "light"
     },
     "output_type": "display_data"
    }
   ],
   "source": [
    "plt.figure(figsize=(12,6))\n",
    "sns.countplot(x='wickets', data=dataset)\n",
    "plt.xticks(rotation='vertical')\n",
    "plt.show()\n",
    "\n"
   ]
  },
  {
   "cell_type": "code",
   "execution_count": 23,
   "metadata": {},
   "outputs": [
    {
     "data": {
      "image/png": "[encoded data removed]",
      "text/plain": [
       "<Figure size 864x432 with 1 Axes>"
      ]
     },
     "metadata": {
      "needs_background": "light"
     },
     "output_type": "display_data"
    }
   ],
   "source": [
    "plt.figure(figsize=(12,6))\n",
    "sns.countplot(x='total', data=dataset)\n",
    "plt.xticks(rotation='vertical')\n",
    "plt.show()"
   ]
  },
  {
   "cell_type": "code",
   "execution_count": 26,
   "metadata": {},
   "outputs": [],
   "source": [
    "X = dataset.iloc[:,[7,8,9,12,13]].values\n",
    "y = dataset.iloc[:, 14].values"
   ]
  },
  {
   "cell_type": "code",
   "execution_count": 27,
   "metadata": {},
   "outputs": [
    {
     "data": {
      "text/plain": [
       "<matplotlib.collections.PathCollection at 0x1dc99358f08>"
      ]
     },
     "execution_count": 27,
     "metadata": {},
     "output_type": "execute_result"
    },
    {
     "data": {
      "image/png": "[encoded data removed]",
      "text/plain": [
       "<Figure size 432x288 with 1 Axes>"
      ]
     },
     "metadata": {
      "needs_background": "light"
     },
     "output_type": "display_data"
    }
   ],
   "source": [
    "plt.scatter(dataset['runs_last_5'],dataset['total'])"
   ]
  },
  {
   "cell_type": "code",
   "execution_count": 28,
   "metadata": {},
   "outputs": [],
   "source": [
    "from sklearn.model_selection import train_test_split\n",
    "X_train, X_test, y_train, y_test = train_test_split(X, y, test_size = 0.25, random_state = 0)"
   ]
  },
  {
   "cell_type": "code",
   "execution_count": 29,
   "metadata": {},
   "outputs": [],
   "source": [
    "from sklearn.preprocessing import StandardScaler\n",
    "sc = StandardScaler()\n",
    "X_train = sc.fit_transform(X_train)\n",
    "X_test = sc.transform(X_test)"
   ]
  },
  {
   "cell_type": "code",
   "execution_count": 30,
   "metadata": {},
   "outputs": [
    {
     "data": {
      "text/plain": [
       "RandomForestRegressor(max_features=None)"
      ]
     },
     "execution_count": 30,
     "metadata": {},
     "output_type": "execute_result"
    }
   ],
   "source": [
    "from sklearn.ensemble import RandomForestRegressor\n",
    "lin = RandomForestRegressor(n_estimators=100,max_features=None)\n",
    "lin.fit(X_train,y_train)"
   ]
  },
  {
   "cell_type": "code",
   "execution_count": 31,
   "metadata": {},
   "outputs": [],
   "source": [
    "def custom_accuracy(y_test,y_pred,thresold):\n",
    "    right = 0\n",
    "    l = len(y_pred)\n",
    "    for i in range(0,l):\n",
    "        if(abs(y_pred[i]-y_test[i]) <= thresold):\n",
    "            right += 1\n",
    "    return ((right/l)*100)"
   ]
  },
  {
   "cell_type": "code",
   "execution_count": 32,
   "metadata": {},
   "outputs": [
    {
     "name": "stdout",
     "output_type": "stream",
     "text": [
      "R-squared value: 67.37644914011605\n",
      "Custom accuracy: 65.48095137865712\n"
     ]
    }
   ],
   "source": [
    "y_pred = lin.predict(X_test)\n",
    "score = lin.score(X_test,y_test)*100\n",
    "print(\"R-squared value:\" , score)\n",
    "print(\"Custom accuracy:\" , custom_accuracy(y_test,y_pred,10))"
   ]
  },
  {
   "cell_type": "code",
   "execution_count": 33,
   "metadata": {},
   "outputs": [
    {
     "name": "stdout",
     "output_type": "stream",
     "text": [
      "Prediction score: [173.96]\n"
     ]
    }
   ],
   "source": [
    "import numpy as np\n",
    "new_prediction = lin.predict(sc.transform(np.array([[100,0,13,50,50]])))\n",
    "print(\"Prediction score:\" , new_prediction)"
   ]
  },
  {
   "cell_type": "code",
   "execution_count": 34,
   "metadata": {},
   "outputs": [
    {
     "data": {
      "text/plain": [
       "['cricket_last.sav']"
      ]
     },
     "execution_count": 34,
     "metadata": {},
     "output_type": "execute_result"
    }
   ],
   "source": [
    "import joblib\n",
    "joblib.dump(lin,'cricket_last.sav')"
   ]
  },
  {
   "cell_type": "code",
   "execution_count": 35,
   "metadata": {},
   "outputs": [
    {
     "data": {
      "text/plain": [
       "['std_scaler.bin']"
      ]
     },
     "execution_count": 35,
     "metadata": {},
     "output_type": "execute_result"
    }
   ],
   "source": [
    "\n",
    "joblib.dump(sc, 'std_scaler.bin', compress=True)"
   ]
  },
  {
   "cell_type": "code",
   "execution_count": null,
   "metadata": {},
   "outputs": [],
   "source": []
  }
 ],
 "metadata": {
  "kernelspec": {
   "display_name": "Python 3",
   "language": "python",
   "name": "python3"
  },
  "language_info": {
   "codemirror_mode": {
    "name": "ipython",
    "version": 3
   },
   "file_extension": ".py",
   "mimetype": "text/x-python",
   "name": "python",
   "nbconvert_exporter": "python",
   "pygments_lexer": "ipython3",
   "version": "3.7.6"
  }
 },
 "nbformat": 4,
 "nbformat_minor": 4
}
